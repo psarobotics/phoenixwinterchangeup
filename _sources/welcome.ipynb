{
 "cells": [
  {
   "cell_type": "markdown",
   "metadata": {},
   "source": [
    "# The VRC Phoenix Winter Tournament\n",
    "\n",
    "## VRC Change Up\n",
    "\n",
    "December 5th 2020\n",
    "\n",
    "```{image} ./images/PSARobotics.jpg\n",
    ":alt: psarobologo\n",
    ":align: center\n",
    "```\n",
    "\n",
    "Welcome to The VRC Phoenix Winter Qualifier! We look forward to a competitive and exciting VRC Change Up tournament which will include virtual judged awards.  Only competitors and registered coaches will be permitted in the team area in order to maintain safe social distancing.  Spectators will not be permitted to attend.  Thank you for your cooperation in creating a safe event for our competitors.\n",
    "\n",
    "### All PSA Robotics events can be viewed live at [Twitch](https://twitch.tv/psa_9447) on the day of the event and replays can be found on [YouTube](https://www.youtube.com/channel/UCD4qMvWYb7rBnB3L6p7BZAQ/)\n",
    "\n",
    "```{image} ./images/twitchTV_PSA.png\n",
    ":alt: psa_9447\n",
    ":align: center\n",
    "```\n",
    "\n",
    "\n",
    "\n",
    "```{toctree}\n",
    ":hidden:\n",
    ":titlesonly:\n",
    "\n",
    "\n",
    "volunteers\n",
    "recf\n",
    "vexrobotics\n",
    "teams\n",
    "agenda\n",
    "awards\n",
    "```"
   ]
  }
 ],
 "metadata": {
  "jupytext": {
   "cell_metadata_filter": "-all",
   "formats": "md:myst",
   "text_representation": {
    "extension": ".md",
    "format_name": "myst",
    "format_version": 0.12,
    "jupytext_version": "1.7.0"
   }
  },
  "kernelspec": {
   "display_name": "Python 3",
   "language": "python",
   "name": "python3"
  },
  "language_info": {
   "codemirror_mode": {
    "name": "ipython",
    "version": 3
   },
   "file_extension": ".py",
   "mimetype": "text/x-python",
   "name": "python",
   "nbconvert_exporter": "python",
   "pygments_lexer": "ipython3",
   "version": "3.9.1"
  },
  "source_map": [
   14
  ]
 },
 "nbformat": 4,
 "nbformat_minor": 4
}