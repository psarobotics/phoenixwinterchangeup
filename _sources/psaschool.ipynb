{
 "cells": [
  {
   "cell_type": "markdown",
   "metadata": {},
   "source": [
    "# Palmetto Scholars Academy\n",
    "\n",
    "```{image} ./images/PSA-New-Logo-Design-Final.png\n",
    ":alt: psanewlogo\n",
    ":align: center\n",
    "```\n",
    "\n",
    "PSA is a Gifted and Talented Charter School located in North Charleston, South Carolina. Because we are part of the  South Carolina Public Charter School District, students in grades 6-12 in any SC county are eligible to attend.\n",
    "\n",
    "```{image} ./images/2017-BR-School-Eagle-RGB-trans-150x150.png\n",
    ":alt: psarobologo\n",
    ":align: center\n",
    "```\n",
    "\n",
    "PSA requires face coverings for all events and activities that take place indoors, or those outdoors where physical distancing will be difficult to maintain. Physical distancing requirements are at least six feet between individuals.\n",
    "\n",
    "Robotics Mentors\n",
    "\n",
    "## Carol Mullins, Kelli Frye, Marcel McAninch\n",
    "\n",
    "Robotics Instructor/Coach\n",
    "\n",
    "## Donna Heisler\n",
    "\n",
    "Event Partner\n",
    "\n",
    "## Robert Kinsella\n",
    "\n",
    "TM Manager/Tech Support\n",
    "\n",
    "## Fred Durand\n",
    "\n",
    "Palmetto Scholars Academy Principal\n",
    "\n",
    "## Corrigan Rutherford"
   ]
  }
 ],
 "metadata": {
  "jupytext": {
   "cell_metadata_filter": "-all",
   "formats": "md:myst",
   "text_representation": {
    "extension": ".md",
    "format_name": "myst",
    "format_version": 0.12,
    "jupytext_version": "1.7.0"
   }
  },
  "kernelspec": {
   "display_name": "Python 3",
   "language": "python",
   "name": "python3"
  },
  "language_info": {
   "codemirror_mode": {
    "name": "ipython",
    "version": 3
   },
   "file_extension": ".py",
   "mimetype": "text/x-python",
   "name": "python",
   "nbconvert_exporter": "python",
   "pygments_lexer": "ipython3",
   "version": "3.9.1"
  },
  "source_map": [
   14
  ]
 },
 "nbformat": 4,
 "nbformat_minor": 4
}