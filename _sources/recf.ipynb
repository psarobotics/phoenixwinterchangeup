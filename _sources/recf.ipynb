{
 "cells": [
  {
   "cell_type": "markdown",
   "metadata": {},
   "source": [
    "# REC Foundation\n",
    "\n",
    "%%HTML\n",
    "<div align=\"middle\">\n",
    "<video width=\"80%\" controls>\n",
    "      <source src=\"./About Us-a-6EmHz_dbY.mp4\" type=\"video/mp4\">\n",
    "</video></div>\n",
    "\n",
    "## Mission\n",
    "\n",
    "The Robotics Education & Competition (REC) Foundation’s mission is to increase student interest and involvement in science, technology, engineering, and mathematics (STEM) by engaging students in hands-on, affordable, and sustainable robotics engineering programs.\n",
    "\n",
    "## Vision\n",
    "\n",
    "We see a future where all students design and innovate as part of a team, experience failure, persevere, and embrace STEM. These lifelong learners emerge confident in their ability to make the world a better place.\n",
    "\n",
    "## The REC Foundation\n",
    "\n",
    "Our regional staff utilizes our online resources, curriculum, and programs to support robotics and technology events and initiatives aimed to inspire and motivate students to excel in STEM education  In addition to operating and supporting competitions for some of the world’s leading robotics platforms and organizations, including VEX, TSA, and BEST Robotics, the foundation also provides program support and workshops focused on technology and professional development for educators. The REC Foundation is a US-registered 501(c)(3) non-profit educational organization.\n",
    "\n",
    "## [RobotEvents.com](https://robotevents.com)\n",
    "\n",
    "The REC Foundation operates RobotEvents.com to help support robotics and other STEM activities that aim to inspire and motivate students. RobotEvents.com is a community website that provides event promotion and professional online registration for STEM events. The site helps the two main groups who make all of these programs possible: teams (schools, students, teachers, mentors, parents) and event organizers (local groups and volunteers).\n",
    "\n",
    "%%HTML\n",
    "<div align=\"middle\">\n",
    "<video width=\"80%\" controls>\n",
    "      <source src=\"./REC Foundation 2020-21 Season Event Welcome-J9bs0JCXfSs.mp4\" type=\"video/mp4\">\n",
    "</video></div>\n",
    "\n",
    "\n",
    "\n",
    "```{toctree}\n",
    ":hidden:\n",
    ":titlesonly:\n",
    "\n",
    "\n",
    "codeofconduct\n",
    "```"
   ]
  }
 ],
 "metadata": {
  "jupytext": {
   "cell_metadata_filter": "-all",
   "formats": "md:myst",
   "text_representation": {
    "extension": ".md",
    "format_name": "myst",
    "format_version": 0.12,
    "jupytext_version": "1.9.1"
   }
  },
  "kernelspec": {
   "display_name": "Python 3",
   "language": "python",
   "name": "python3"
  },
  "language_info": {
   "codemirror_mode": {
    "name": "ipython",
    "version": 3
   },
   "file_extension": ".py",
   "mimetype": "text/x-python",
   "name": "python",
   "nbconvert_exporter": "python",
   "pygments_lexer": "ipython3",
   "version": "3.9.1"
  },
  "source_map": [
   14
  ]
 },
 "nbformat": 4,
 "nbformat_minor": 4
}